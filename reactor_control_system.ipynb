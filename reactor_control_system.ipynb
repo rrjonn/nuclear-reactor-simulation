{
 "cells": [
  {
   "cell_type": "markdown",
   "id": "5caddfc0",
   "metadata": {},
   "source": [
    "### BCIS 5110 - Assignment 3 - Intermediate\n",
    "Write programs to answer the following questions. 10 points each."
   ]
  },
  {
   "cell_type": "markdown",
   "id": "560ecab7",
   "metadata": {},
   "source": [
    "1. In this exercise, we'll develop a simple control system for a nuclear reactor.\n",
    "\n",
    "For a reactor to produce the power it must be in a state of criticality. If the reactor is in a state less than criticality, it can become damaged. If the reactor state goes beyond criticality, it can overload and result in a meltdown. We want to mitigate the chances of meltdown and correctly manage reactor state.\n",
    "\n",
    "The following three tasks are all related to writing code for maintaining ideal reactor state."
   ]
  },
  {
   "cell_type": "markdown",
   "id": "7fff4585",
   "metadata": {},
   "source": [
    "1). Check for criticality<br>\n",
    "The first thing a control system has to do is check if the reactor is balanced in criticality. A reactor is said to be critical if it satisfies the following conditions:<br>\n",
    "\n",
    "The temperature is less than 800 K.<br>\n",
    "The number of neutrons emitted per second is greater than 500.<br>\n",
    "The product of temperature and neutrons emitted per second is less than 500000.<br>\n",
    "<br>\n",
    "Implement the function is_criticality_balanced() that takes temperature measured in kelvin and neutrons_emitted as parameters, and returns True if the criticality conditions are met, False if not."
   ]
  },
  {
   "cell_type": "code",
   "execution_count": 19,
   "id": "0ba924ff",
   "metadata": {},
   "outputs": [],
   "source": [
    "def is_criticality_balanced(temperature, neutrons_emitted=500):\n",
    "    \"\"\" This function determines whether the nuclear reactor is \n",
    "    operating at a stable and safe level, known as criticality. \n",
    "    To make this assessment, it considers two key factors:\n",
    "\n",
    "    The temperature of the reactor, measured in Kelvin\n",
    "    The number of neutrons being emitted per second (with a default \n",
    "    value of 500, if not specified)\n",
    "    If the conditions are met, it returns True; otherwise, it returns False. \"\"\"\n",
    "    \n",
    "    if temperature < 800 and neutrons_emitted > 500 and temperature * neutrons_emitted < 500000:\n",
    "        return True\n",
    "    else:\n",
    "        return False"
   ]
  },
  {
   "cell_type": "code",
   "execution_count": 20,
   "id": "3f226782",
   "metadata": {},
   "outputs": [
    {
     "name": "stdout",
     "output_type": "stream",
     "text": [
      "Reactor temperature: 750 K\n",
      "Neutrons emitted per second: 600\n",
      "True\n"
     ]
    }
   ],
   "source": [
    "# test example\n",
    "temperature = 750\n",
    "neutrons_emitted = 600\n",
    "\n",
    "result = is_criticality_balanced(temperature, neutrons_emitted)\n",
    "\n",
    "print(f\"Reactor temperature: {temperature} K\")\n",
    "print(f\"Neutrons emitted per second: {neutrons_emitted}\")\n",
    "print(result)"
   ]
  },
  {
   "cell_type": "markdown",
   "id": "2f0e98e0",
   "metadata": {},
   "source": [
    "2). 2. Determine the Power output range<br>\n",
    "Once the reactor has started producing power its efficiency needs to be determined. Efficiency can be grouped into 4 bands:<br>\n",
    "\n",
    "green -> efficiency of 80% or more,<br>\n",
    "orange -> efficiency of less than 80% but at least 60%,<br>\n",
    "red -> efficiency below 60%, but still 30% or more,<br>\n",
    "black -> less than 30% efficient.<br>\n",
    "The percentage value can be calculated as (generated_power/theoretical_max_power)*100 where generated_power = voltage * current. Note that the percentage value is usually not an integer number, so make sure to consider the proper use of the < and <= comparisons.<br>\n",
    "<br>\n",
    "Implement the function reactor_efficiency(<voltage>, <current>, <theoretical_max_power>), with three parameters: voltage, current, and theoretical_max_power. This function should return the efficiency band of the reactor : 'green', 'orange', 'red', or 'black'."
   ]
  },
  {
   "cell_type": "code",
   "execution_count": 21,
   "id": "23b55d5d",
   "metadata": {},
   "outputs": [],
   "source": [
    "def reactor_efficiency(voltage, current, theoretical_max_power):\n",
    "    \"\"\"\n",
    "    The voltage of the reactor (float)\n",
    "    The current of the reactor (float)\n",
    "    The theoretical maximum power of the reactor (float)\n",
    "    The function then uses these numbers to calculate the \n",
    "    efficiency of the reactor, which is like a report card \n",
    "    for how well it's doing. The efficiency is divided into four categories:\n",
    "\n",
    "    Green: (80% or more efficient)\n",
    "    Orange:(60-79% efficient)\n",
    "    Red: (30-59% efficient)\n",
    "    Black: (less than 30% efficient)\n",
    "    \"\"\"\n",
    "    efficiency = (voltage * current / theoretical_max_power) * 100\n",
    "\n",
    "    if efficiency >= 80:\n",
    "        return 'green'\n",
    "    elif efficiency >= 60:\n",
    "        return 'orange'\n",
    "    elif efficiency >= 30:\n",
    "        return 'red'\n",
    "    else:\n",
    "        return 'black'"
   ]
  },
  {
   "cell_type": "code",
   "execution_count": 22,
   "id": "d87bc681",
   "metadata": {},
   "outputs": [
    {
     "name": "stdout",
     "output_type": "stream",
     "text": [
      "green\n"
     ]
    }
   ],
   "source": [
    "# Test case \n",
    "voltage = 50.0\n",
    "current = 5.0\n",
    "theoretical_max_power = 100.0\n",
    "print(reactor_efficiency(voltage, current, theoretical_max_power))"
   ]
  },
  {
   "cell_type": "markdown",
   "id": "bd62ec51",
   "metadata": {},
   "source": [
    "3). Fail Safe Mechanism<br>\n",
    "Your final task involves creating a fail-safe mechanism to avoid overload and meltdown. This mechanism will determine if the reactor is below, at, or above the ideal criticality threshold. Criticality can then be increased, decreased, or stopped by inserting (or removing) control rods into the reactor.<br>\n",
    "\n",
    "Implement the function called fail_safe(), which takes 3 parameters: temperature measured in kelvin, neutrons_produced_per_second, and threshold, and outputs a status code for the reactor.<br>\n",
    "\n",
    "If temperature * neutrons_produced_per_second < 90% of threshold, output a status code of 'LOW' indicating that control rods must be removed to produce power.<br>\n",
    "\n",
    "If the value temperature * neutrons_produced_per_second is within 10% of the threshold (so either 0-10% less than the threshold, at the threshold, or 0-10% greater than the threshold), the reactor is in criticality and the status code of 'NORMAL' should be output, indicating that the reactor is in optimum condition and control rods are in an ideal position.<br>\n",
    "\n",
    "If temperature * neutrons_produced_per_second is not in the above-stated ranges, the reactor is going into meltdown and a status code of 'DANGER' must be passed to immediately shut down the reactor.<br>"
   ]
  },
  {
   "cell_type": "code",
   "execution_count": 23,
   "id": "18a21bda",
   "metadata": {},
   "outputs": [],
   "source": [
    "def fail_safe(temperature, neutrons_produced_per_second, threshold):\n",
    "    product = temperature * neutrons_produced_per_second\n",
    "    if 0.9 * threshold <= product <= 1.1 * threshold: return 'NORMAL'\n",
    "    elif product < 0.9 * threshold: return 'LOW'\n",
    "    else: return 'DANGER'"
   ]
  },
  {
   "cell_type": "code",
   "execution_count": 24,
   "id": "d5ee1343",
   "metadata": {},
   "outputs": [
    {
     "name": "stdout",
     "output_type": "stream",
     "text": [
      "DANGER\n"
     ]
    }
   ],
   "source": [
    "# Test case \n",
    "temperature = 1200\n",
    "neutrons_produced_per_second = 300\n",
    "threshold = 1000\n",
    "print(fail_safe(temperature, neutrons_produced_per_second, threshold))"
   ]
  }
 ],
 "metadata": {
  "kernelspec": {
   "display_name": "Python 3",
   "language": "python",
   "name": "python3"
  },
  "language_info": {
   "codemirror_mode": {
    "name": "ipython",
    "version": 3
   },
   "file_extension": ".py",
   "mimetype": "text/x-python",
   "name": "python",
   "nbconvert_exporter": "python",
   "pygments_lexer": "ipython3",
   "version": "3.12.1"
  }
 },
 "nbformat": 4,
 "nbformat_minor": 5
}
